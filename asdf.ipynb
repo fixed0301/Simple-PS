{
 "cells": [
  {
   "cell_type": "markdown",
   "source": [
    "## 1 ~ n 까지의 합 구하기"
   ],
   "metadata": {
    "collapsed": false
   },
   "id": "40b54720fb2482b7"
  },
  {
   "cell_type": "code",
   "execution_count": null,
   "outputs": [],
   "source": [
    "def f(n):\n",
    "    if n == 1:\n",
    "        return 1\n",
    "    else:\n",
    "        return f(n-1) + n\n",
    "n = int(input())\n",
    "print(f(n))"
   ],
   "metadata": {
    "collapsed": false
   },
   "id": "389e5a585d9f2737"
  },
  {
   "cell_type": "code",
   "execution_count": null,
   "outputs": [],
   "source": [
    "# 실행이 잘 될까? 왜 그럴까?\n",
    "def f(n):\n",
    "    return f(n-1) + n\n",
    "n = int(input())\n",
    "print(f(n))\n",
    "# f(3)은 뭐야? f(2)는 뭐야? ..... f(-100)은 뭐야..?\n",
    "# 그래서 순환 호출 중단 위한 임계 조건 추가"
   ],
   "metadata": {
    "collapsed": false
   },
   "id": "7f0c59ab91fd99c2"
  },
  {
   "cell_type": "markdown",
   "source": [
    "## 재귀 호출 횟수 제한\n",
    "\n",
    "#### import sys\n",
    "#### sys.setrecursionlimit(n)"
   ],
   "metadata": {
    "collapsed": false
   },
   "id": "db306a27440d4e9d"
  },
  {
   "cell_type": "markdown",
   "source": [
    "## 1부터 n까지를 출력해보자"
   ],
   "metadata": {
    "collapsed": false
   },
   "id": "4ea1836da40f0205"
  },
  {
   "cell_type": "code",
   "execution_count": 12,
   "outputs": [
    {
     "name": "stdout",
     "output_type": "stream",
     "text": [
      "1 2 3 4 5 6 7 8 9 "
     ]
    }
   ],
   "source": [
    "def f(n):\n",
    "    if n == 0: return # 멈출 조건\n",
    "    f(n-1) # 전 단계                호출하면 그걸 찾기 위해 재귀적으로 깊게 들어가는거임! 나와서 print같은거 하는건 다 찾고 나서 다시 나오면 하는거.. 그러면 n = 0 찍고 나오면서 f(n-1) 부분은 들어간 입구니까 일부러 가리고 생각할까나\n",
    "    print(n, end=' ') # 현 단계\n",
    "n = int(input())\n",
    "f(n)\n"
   ],
   "metadata": {
    "collapsed": false,
    "ExecuteTime": {
     "end_time": "2023-11-15T03:55:16.516928200Z",
     "start_time": "2023-11-15T03:53:11.660200100Z"
    }
   },
   "id": "f6b468e77f354118"
  },
  {
   "cell_type": "code",
   "execution_count": 1,
   "outputs": [
    {
     "name": "stdout",
     "output_type": "stream",
     "text": [
      "5 4 3 2 1 "
     ]
    }
   ],
   "source": [
    "# 만약 호출 순서가 바뀐다면? (호출 순서는 작은 순으로 내려간다. )\n",
    "def f(n):\n",
    "    if n == 0: return # 멈출 조건\n",
    "    print(n, end=' ') # 현 단계\n",
    "    f(n-1) # 전 단계 \n",
    "n = int(input())\n",
    "f(n)\n"
   ],
   "metadata": {
    "collapsed": false,
    "ExecuteTime": {
     "end_time": "2023-11-15T05:53:06.560452200Z",
     "start_time": "2023-11-15T05:53:04.100470700Z"
    }
   },
   "id": "64a86b03053a9905"
  },
  {
   "cell_type": "code",
   "execution_count": 2,
   "outputs": [
    {
     "name": "stdout",
     "output_type": "stream",
     "text": [
      "1 2 3 4 5 \n"
     ]
    }
   ],
   "source": [
    "# 만약 이런건? (호출 순서는 큰 순으로 올라간다. )\n",
    "def f(x): \n",
    "    if x > n: return \n",
    "    print(x, end =\" \")\n",
    "    f(x+1)\n",
    "n = int(input())\n",
    "f(1)\n",
    "print()"
   ],
   "metadata": {
    "collapsed": false,
    "ExecuteTime": {
     "end_time": "2023-11-15T05:58:28.928091Z",
     "start_time": "2023-11-15T05:58:27.355185400Z"
    }
   },
   "id": "1ed72b5d9dc6dbc2"
  },
  {
   "cell_type": "code",
   "execution_count": 3,
   "outputs": [
    {
     "name": "stdout",
     "output_type": "stream",
     "text": [
      "5 4 3 2 1 \n"
     ]
    }
   ],
   "source": [
    "# 또 이거의 호출 순서를 바꾸면? \n",
    "def f(x):\n",
    "    if x > n: return\n",
    "    f(x+1)\n",
    "    print(x, end =\" \")\n",
    "\n",
    "n = int(input())\n",
    "f(1)\n",
    "print()"
   ],
   "metadata": {
    "collapsed": false,
    "ExecuteTime": {
     "end_time": "2023-11-15T05:59:15.103260300Z",
     "start_time": "2023-11-15T05:59:13.592205400Z"
    }
   },
   "id": "b6cc722978e24447"
  },
  {
   "cell_type": "markdown",
   "source": [
    "## 별을 출력해보자"
   ],
   "metadata": {
    "collapsed": false
   },
   "id": "2df1488d106c9c18"
  },
  {
   "cell_type": "code",
   "execution_count": 4,
   "outputs": [
    {
     "name": "stdout",
     "output_type": "stream",
     "text": [
      "*\n",
      "*\n",
      "*\n",
      "*\n",
      "*\n",
      "*\n",
      "*\n"
     ]
    }
   ],
   "source": [
    "def f(x):\n",
    "    if x <= 0: return \n",
    "    print('*')\n",
    "    f(x-1)\n",
    "    \n",
    "n = int(input())\n",
    "f(n)"
   ],
   "metadata": {
    "collapsed": false,
    "ExecuteTime": {
     "end_time": "2023-11-15T06:01:35.865244300Z",
     "start_time": "2023-11-15T06:01:34.593070300Z"
    }
   },
   "id": "a98cbd7db2e21a67"
  },
  {
   "cell_type": "markdown",
   "source": [
    "## n을 k 진법으로 !"
   ],
   "metadata": {
    "collapsed": false
   },
   "id": "687fba69234d662"
  },
  {
   "cell_type": "code",
   "execution_count": 6,
   "outputs": [
    {
     "name": "stdout",
     "output_type": "stream",
     "text": [
      "11\n"
     ]
    }
   ],
   "source": [
    "def f(n, k):\n",
    "    if n >= k:\n",
    "        f(n//k, k)\n",
    "    print(n%k, end='')\n",
    "\n",
    "n, k = map(int, input().split())\n",
    "f(n, k)\n",
    "print()"
   ],
   "metadata": {
    "collapsed": false,
    "ExecuteTime": {
     "start_time": "2023-11-15T06:02:53.295225600Z"
    }
   },
   "id": "a00719021820cc9"
  },
  {
   "cell_type": "code",
   "execution_count": 7,
   "outputs": [
    {
     "name": "stdout",
     "output_type": "stream",
     "text": [
      "32\n"
     ]
    }
   ],
   "source": [
    "# 2의 거듭제곱을 계산하자!\n",
    "def f(x):\n",
    "    if x < 1:\n",
    "        return 1\n",
    "    return f(x-1) + f(x-1)\n",
    "\n",
    "n = int(input())\n",
    "print(f(n))"
   ],
   "metadata": {
    "collapsed": false,
    "ExecuteTime": {
     "end_time": "2023-11-15T06:04:29.203376400Z",
     "start_time": "2023-11-15T06:04:27.413775700Z"
    }
   },
   "id": "3473dba025a6ed28"
  },
  {
   "cell_type": "code",
   "execution_count": 8,
   "outputs": [
    {
     "name": "stdout",
     "output_type": "stream",
     "text": [
      "16\n"
     ]
    }
   ],
   "source": [
    "# 2의 (거듭제곱-1)을 계산하자!\n",
    "def f(x):\n",
    "    if x <= 1:\n",
    "        return 1\n",
    "    return f(x-1) + f(x-1)\n",
    "\n",
    "n = int(input())\n",
    "print(f(n))"
   ],
   "metadata": {
    "collapsed": false,
    "ExecuteTime": {
     "end_time": "2023-11-15T06:15:16.786245Z",
     "start_time": "2023-11-15T06:15:15.370943400Z"
    }
   },
   "id": "1467bb87fa28b052"
  },
  {
   "cell_type": "markdown",
   "source": [
    "## 이건 무슨 코드일까?"
   ],
   "metadata": {
    "collapsed": false
   },
   "id": "38d13c230c980d6b"
  },
  {
   "cell_type": "code",
   "execution_count": null,
   "outputs": [],
   "source": [
    "#1\n",
    "def g(n):\n",
    "    if n <= 0:\n",
    "        return \n",
    "    g(n-1)\n",
    "    print('*', end='')\n",
    "    \n",
    "def f(n):\n",
    "    if n <= 0:\n",
    "        return \n",
    "    f(n-1)\n",
    "    g(n)\n",
    "    print()\n",
    "    \n",
    "n = int(input())\n",
    "f(n)"
   ],
   "metadata": {
    "collapsed": false
   },
   "id": "f767f45afe3f550f"
  },
  {
   "cell_type": "code",
   "execution_count": null,
   "outputs": [],
   "source": [
    "#2\n",
    "def f(n):\n",
    "    cnt[n] += 1 # f(n) 이 몇 번 호출되는지 카운팅\n",
    "    if n <= 2:\n",
    "        return 1\n",
    "    else:\n",
    "        return f(n-2) + f(n-1)\n",
    "n = int(input())\n",
    "cnt = [0 for _ in range(n+1)]\n",
    "print(f(n), end=' ')\n",
    "print()\n",
    "print(*cnt)\n",
    "print(sum(cnt))"
   ],
   "metadata": {
    "collapsed": false
   },
   "id": "905ae502cfd0cbb8"
  },
  {
   "cell_type": "markdown",
   "source": [
    "## 메모이제이션을 통한 피보나치 구현"
   ],
   "metadata": {
    "collapsed": false
   },
   "id": "6879b1ed5c9a6961"
  },
  {
   "cell_type": "code",
   "execution_count": null,
   "outputs": [],
   "source": [
    "def f(n):\n",
    "    cnt[n] += 1\n",
    "    if memo[n]: # 있는 값은 불러서 쓰기\n",
    "        return memo[n]\n",
    "    if n <= 2:\n",
    "        return 1\n",
    "    memo[n] = f(n-2) + f(n-1)\n",
    "    return memo[n]\n",
    "n = int(input())\n",
    "cnt = [0 for _ in range(n+1)]\n",
    "memo = [0 for _ in range(n+1)]\n",
    "print(f(n), end=' ')\n",
    "print()\n",
    "print(*cnt)\n",
    "print(sum(cnt))"
   ],
   "metadata": {
    "collapsed": false
   },
   "id": "537a6e69dc4c62ae"
  },
  {
   "cell_type": "markdown",
   "source": [
    "## Hanoi"
   ],
   "metadata": {
    "collapsed": false
   },
   "id": "524a58a034055c83"
  },
  {
   "cell_type": "code",
   "execution_count": 3,
   "outputs": [
    {
     "name": "stdout",
     "output_type": "stream",
     "text": [
      "cnt: 1, Disk 1 : A to C\n",
      "cnt: 2, Disk 2 : A to B\n",
      "cnt: 3, Disk 1 : C to B\n",
      "cnt: 4, Disk 3 : A to C\n",
      "cnt: 5, Disk 1 : B to A\n",
      "cnt: 6, Disk 2 : B to C\n",
      "cnt: 7, Disk 1 : A to C\n"
     ]
    }
   ],
   "source": [
    "cnt = 1\n",
    "def hanoi(A, B, C, n): # 출발, 경유, 도착, 원판수\n",
    "    global cnt\n",
    "    if n == 1: # 초항 (종료조건을 초항으로 봄)\n",
    "        print(f'cnt: {cnt}, Disk {n} : {A} to {C}')\n",
    "        cnt += 1\n",
    "    else: # 일반항\n",
    "        # 전단계\n",
    "        hanoi(A, C, B, n-1) # 다음단계11 이후에 추가한 다음단계 22인데, 출발지는 그대로고 경유지가 C, 도착지가 C 바뀐 것이다. \n",
    "        print(f'cnt: {cnt}, Disk {n} : {A} to {C}') # 현재\n",
    "        cnt += 1\n",
    "        #hanoi(A, B, C, n) # 다음단계11\n",
    "        hanoi(B, A, C, n-1) #다음단계 22 이후 다음단계 33임. 뭔가 보면서 계속 고치는 느낌. 내가 다 설정할 필요가 없이 컴퓨터가 할 수 있는것 !\n",
    "n = int(input())\n",
    "hanoi('A', 'B', 'C', n)"
   ],
   "metadata": {
    "collapsed": false,
    "ExecuteTime": {
     "end_time": "2023-11-15T03:41:02.406322400Z",
     "start_time": "2023-11-15T03:41:01.604490900Z"
    }
   },
   "id": "f6d5229753922ae5"
  },
  {
   "cell_type": "code",
   "execution_count": null,
   "outputs": [],
   "source": [
    "def hanoi(n, start, end, mid):\n",
    "    if n == 1:\n",
    "        print(f\"Disk {n} : {start} to {end}\")\n",
    "        return None\n",
    "    hanoi(n-1, start, mid, end)\n",
    "    print(f\"Disk {n} : {start} to {end}\")\n",
    "    hanoi(n-1, mid, end, start)\n",
    "\n",
    "n = int(input())\n",
    "hanoi(n, 'A', 'C', 'B')"
   ],
   "metadata": {
    "collapsed": false
   },
   "id": "311e2d7bb128c32b"
  }
 ],
 "metadata": {
  "kernelspec": {
   "display_name": "Python 3",
   "language": "python",
   "name": "python3"
  },
  "language_info": {
   "codemirror_mode": {
    "name": "ipython",
    "version": 2
   },
   "file_extension": ".py",
   "mimetype": "text/x-python",
   "name": "python",
   "nbconvert_exporter": "python",
   "pygments_lexer": "ipython2",
   "version": "2.7.6"
  }
 },
 "nbformat": 4,
 "nbformat_minor": 5
}
